{
 "cells": [
  {
   "cell_type": "markdown",
   "metadata": {},
   "source": [
    "The Dataset has been taken from kaggle using the following link\n",
    "https://www.kaggle.com/faressayah/stock-market-analysis-prediction-using-lstm/data?select=Tesla.csv+-+Tesla.csv.csv"
   ]
  },
  {
   "cell_type": "code",
   "execution_count": 1,
   "metadata": {},
   "outputs": [
    {
     "name": "stderr",
     "output_type": "stream",
     "text": [
      "In /home/tanya/.local/lib/python3.6/site-packages/matplotlib/mpl-data/stylelib/_classic_test.mplstyle: \n",
      "The text.latex.preview rcparam was deprecated in Matplotlib 3.3 and will be removed two minor releases later.\n",
      "In /home/tanya/.local/lib/python3.6/site-packages/matplotlib/mpl-data/stylelib/_classic_test.mplstyle: \n",
      "The mathtext.fallback_to_cm rcparam was deprecated in Matplotlib 3.3 and will be removed two minor releases later.\n",
      "In /home/tanya/.local/lib/python3.6/site-packages/matplotlib/mpl-data/stylelib/_classic_test.mplstyle: Support for setting the 'mathtext.fallback_to_cm' rcParam is deprecated since 3.3 and will be removed two minor releases later; use 'mathtext.fallback : 'cm' instead.\n",
      "In /home/tanya/.local/lib/python3.6/site-packages/matplotlib/mpl-data/stylelib/_classic_test.mplstyle: \n",
      "The validate_bool_maybe_none function was deprecated in Matplotlib 3.3 and will be removed two minor releases later.\n",
      "In /home/tanya/.local/lib/python3.6/site-packages/matplotlib/mpl-data/stylelib/_classic_test.mplstyle: \n",
      "The savefig.jpeg_quality rcparam was deprecated in Matplotlib 3.3 and will be removed two minor releases later.\n",
      "In /home/tanya/.local/lib/python3.6/site-packages/matplotlib/mpl-data/stylelib/_classic_test.mplstyle: \n",
      "The keymap.all_axes rcparam was deprecated in Matplotlib 3.3 and will be removed two minor releases later.\n",
      "In /home/tanya/.local/lib/python3.6/site-packages/matplotlib/mpl-data/stylelib/_classic_test.mplstyle: \n",
      "The animation.avconv_path rcparam was deprecated in Matplotlib 3.3 and will be removed two minor releases later.\n",
      "In /home/tanya/.local/lib/python3.6/site-packages/matplotlib/mpl-data/stylelib/_classic_test.mplstyle: \n",
      "The animation.avconv_args rcparam was deprecated in Matplotlib 3.3 and will be removed two minor releases later.\n"
     ]
    }
   ],
   "source": [
    "import pandas as pd\n",
    "import numpy as np\n",
    "import matplotlib.pyplot as plt"
   ]
  },
  {
   "cell_type": "code",
   "execution_count": 2,
   "metadata": {},
   "outputs": [],
   "source": [
    "df = pd.read_csv('Tesla.csv - Tesla.csv.csv')"
   ]
  },
  {
   "cell_type": "code",
   "execution_count": 3,
   "metadata": {},
   "outputs": [],
   "source": [
    "df_Train = df[0:1600]\n",
    "df_test = df[1600:]"
   ]
  },
  {
   "cell_type": "code",
   "execution_count": 4,
   "metadata": {},
   "outputs": [
    {
     "data": {
      "text/html": [
       "<div>\n",
       "<style scoped>\n",
       "    .dataframe tbody tr th:only-of-type {\n",
       "        vertical-align: middle;\n",
       "    }\n",
       "\n",
       "    .dataframe tbody tr th {\n",
       "        vertical-align: top;\n",
       "    }\n",
       "\n",
       "    .dataframe thead th {\n",
       "        text-align: right;\n",
       "    }\n",
       "</style>\n",
       "<table border=\"1\" class=\"dataframe\">\n",
       "  <thead>\n",
       "    <tr style=\"text-align: right;\">\n",
       "      <th></th>\n",
       "      <th>Date</th>\n",
       "      <th>Open</th>\n",
       "      <th>High</th>\n",
       "      <th>Low</th>\n",
       "      <th>Close</th>\n",
       "      <th>Volume</th>\n",
       "      <th>Adj Close</th>\n",
       "    </tr>\n",
       "  </thead>\n",
       "  <tbody>\n",
       "    <tr>\n",
       "      <th>0</th>\n",
       "      <td>6/29/2010</td>\n",
       "      <td>19.000000</td>\n",
       "      <td>25.000000</td>\n",
       "      <td>17.540001</td>\n",
       "      <td>23.889999</td>\n",
       "      <td>18766300</td>\n",
       "      <td>23.889999</td>\n",
       "    </tr>\n",
       "    <tr>\n",
       "      <th>1</th>\n",
       "      <td>6/30/2010</td>\n",
       "      <td>25.790001</td>\n",
       "      <td>30.420000</td>\n",
       "      <td>23.299999</td>\n",
       "      <td>23.830000</td>\n",
       "      <td>17187100</td>\n",
       "      <td>23.830000</td>\n",
       "    </tr>\n",
       "    <tr>\n",
       "      <th>2</th>\n",
       "      <td>7/1/2010</td>\n",
       "      <td>25.000000</td>\n",
       "      <td>25.920000</td>\n",
       "      <td>20.270000</td>\n",
       "      <td>21.959999</td>\n",
       "      <td>8218800</td>\n",
       "      <td>21.959999</td>\n",
       "    </tr>\n",
       "    <tr>\n",
       "      <th>3</th>\n",
       "      <td>7/2/2010</td>\n",
       "      <td>23.000000</td>\n",
       "      <td>23.100000</td>\n",
       "      <td>18.709999</td>\n",
       "      <td>19.200001</td>\n",
       "      <td>5139800</td>\n",
       "      <td>19.200001</td>\n",
       "    </tr>\n",
       "    <tr>\n",
       "      <th>4</th>\n",
       "      <td>7/6/2010</td>\n",
       "      <td>20.000000</td>\n",
       "      <td>20.000000</td>\n",
       "      <td>15.830000</td>\n",
       "      <td>16.110001</td>\n",
       "      <td>6866900</td>\n",
       "      <td>16.110001</td>\n",
       "    </tr>\n",
       "    <tr>\n",
       "      <th>...</th>\n",
       "      <td>...</td>\n",
       "      <td>...</td>\n",
       "      <td>...</td>\n",
       "      <td>...</td>\n",
       "      <td>...</td>\n",
       "      <td>...</td>\n",
       "      <td>...</td>\n",
       "    </tr>\n",
       "    <tr>\n",
       "      <th>1595</th>\n",
       "      <td>10/27/2016</td>\n",
       "      <td>211.339996</td>\n",
       "      <td>213.699997</td>\n",
       "      <td>201.649994</td>\n",
       "      <td>204.009995</td>\n",
       "      <td>13093700</td>\n",
       "      <td>204.009995</td>\n",
       "    </tr>\n",
       "    <tr>\n",
       "      <th>1596</th>\n",
       "      <td>10/28/2016</td>\n",
       "      <td>204.000000</td>\n",
       "      <td>205.320007</td>\n",
       "      <td>199.830002</td>\n",
       "      <td>199.970001</td>\n",
       "      <td>4280100</td>\n",
       "      <td>199.970001</td>\n",
       "    </tr>\n",
       "    <tr>\n",
       "      <th>1597</th>\n",
       "      <td>10/31/2016</td>\n",
       "      <td>202.490005</td>\n",
       "      <td>202.490005</td>\n",
       "      <td>195.809998</td>\n",
       "      <td>197.729996</td>\n",
       "      <td>4692300</td>\n",
       "      <td>197.729996</td>\n",
       "    </tr>\n",
       "    <tr>\n",
       "      <th>1598</th>\n",
       "      <td>11/1/2016</td>\n",
       "      <td>198.039993</td>\n",
       "      <td>198.500000</td>\n",
       "      <td>188.110001</td>\n",
       "      <td>190.789993</td>\n",
       "      <td>7060000</td>\n",
       "      <td>190.789993</td>\n",
       "    </tr>\n",
       "    <tr>\n",
       "      <th>1599</th>\n",
       "      <td>11/2/2016</td>\n",
       "      <td>190.050003</td>\n",
       "      <td>192.699997</td>\n",
       "      <td>187.509995</td>\n",
       "      <td>188.020004</td>\n",
       "      <td>4253400</td>\n",
       "      <td>188.020004</td>\n",
       "    </tr>\n",
       "  </tbody>\n",
       "</table>\n",
       "<p>1600 rows × 7 columns</p>\n",
       "</div>"
      ],
      "text/plain": [
       "            Date        Open        High         Low       Close    Volume  \\\n",
       "0      6/29/2010   19.000000   25.000000   17.540001   23.889999  18766300   \n",
       "1      6/30/2010   25.790001   30.420000   23.299999   23.830000  17187100   \n",
       "2       7/1/2010   25.000000   25.920000   20.270000   21.959999   8218800   \n",
       "3       7/2/2010   23.000000   23.100000   18.709999   19.200001   5139800   \n",
       "4       7/6/2010   20.000000   20.000000   15.830000   16.110001   6866900   \n",
       "...          ...         ...         ...         ...         ...       ...   \n",
       "1595  10/27/2016  211.339996  213.699997  201.649994  204.009995  13093700   \n",
       "1596  10/28/2016  204.000000  205.320007  199.830002  199.970001   4280100   \n",
       "1597  10/31/2016  202.490005  202.490005  195.809998  197.729996   4692300   \n",
       "1598   11/1/2016  198.039993  198.500000  188.110001  190.789993   7060000   \n",
       "1599   11/2/2016  190.050003  192.699997  187.509995  188.020004   4253400   \n",
       "\n",
       "       Adj Close  \n",
       "0      23.889999  \n",
       "1      23.830000  \n",
       "2      21.959999  \n",
       "3      19.200001  \n",
       "4      16.110001  \n",
       "...          ...  \n",
       "1595  204.009995  \n",
       "1596  199.970001  \n",
       "1597  197.729996  \n",
       "1598  190.789993  \n",
       "1599  188.020004  \n",
       "\n",
       "[1600 rows x 7 columns]"
      ]
     },
     "execution_count": 4,
     "metadata": {},
     "output_type": "execute_result"
    }
   ],
   "source": [
    "df_Train"
   ]
  },
  {
   "cell_type": "code",
   "execution_count": 5,
   "metadata": {},
   "outputs": [
    {
     "data": {
      "text/html": [
       "<div>\n",
       "<style scoped>\n",
       "    .dataframe tbody tr th:only-of-type {\n",
       "        vertical-align: middle;\n",
       "    }\n",
       "\n",
       "    .dataframe tbody tr th {\n",
       "        vertical-align: top;\n",
       "    }\n",
       "\n",
       "    .dataframe thead th {\n",
       "        text-align: right;\n",
       "    }\n",
       "</style>\n",
       "<table border=\"1\" class=\"dataframe\">\n",
       "  <thead>\n",
       "    <tr style=\"text-align: right;\">\n",
       "      <th></th>\n",
       "      <th>Date</th>\n",
       "      <th>Open</th>\n",
       "      <th>High</th>\n",
       "      <th>Low</th>\n",
       "      <th>Close</th>\n",
       "      <th>Volume</th>\n",
       "      <th>Adj Close</th>\n",
       "    </tr>\n",
       "  </thead>\n",
       "  <tbody>\n",
       "    <tr>\n",
       "      <th>1600</th>\n",
       "      <td>11/3/2016</td>\n",
       "      <td>189.000000</td>\n",
       "      <td>191.470001</td>\n",
       "      <td>187.039993</td>\n",
       "      <td>187.419998</td>\n",
       "      <td>2653000</td>\n",
       "      <td>187.419998</td>\n",
       "    </tr>\n",
       "    <tr>\n",
       "      <th>1601</th>\n",
       "      <td>11/4/2016</td>\n",
       "      <td>189.000000</td>\n",
       "      <td>193.460007</td>\n",
       "      <td>185.960007</td>\n",
       "      <td>190.559998</td>\n",
       "      <td>5146000</td>\n",
       "      <td>190.559998</td>\n",
       "    </tr>\n",
       "    <tr>\n",
       "      <th>1602</th>\n",
       "      <td>11/7/2016</td>\n",
       "      <td>193.589996</td>\n",
       "      <td>194.289993</td>\n",
       "      <td>190.050003</td>\n",
       "      <td>193.210007</td>\n",
       "      <td>3870100</td>\n",
       "      <td>193.210007</td>\n",
       "    </tr>\n",
       "    <tr>\n",
       "      <th>1603</th>\n",
       "      <td>11/8/2016</td>\n",
       "      <td>193.789993</td>\n",
       "      <td>197.490005</td>\n",
       "      <td>191.259995</td>\n",
       "      <td>194.940002</td>\n",
       "      <td>3267600</td>\n",
       "      <td>194.940002</td>\n",
       "    </tr>\n",
       "    <tr>\n",
       "      <th>1604</th>\n",
       "      <td>11/9/2016</td>\n",
       "      <td>186.880005</td>\n",
       "      <td>192.000000</td>\n",
       "      <td>183.949997</td>\n",
       "      <td>190.059998</td>\n",
       "      <td>8173100</td>\n",
       "      <td>190.059998</td>\n",
       "    </tr>\n",
       "    <tr>\n",
       "      <th>...</th>\n",
       "      <td>...</td>\n",
       "      <td>...</td>\n",
       "      <td>...</td>\n",
       "      <td>...</td>\n",
       "      <td>...</td>\n",
       "      <td>...</td>\n",
       "      <td>...</td>\n",
       "    </tr>\n",
       "    <tr>\n",
       "      <th>1687</th>\n",
       "      <td>3/13/2017</td>\n",
       "      <td>244.820007</td>\n",
       "      <td>246.850006</td>\n",
       "      <td>242.779999</td>\n",
       "      <td>246.169998</td>\n",
       "      <td>3010700</td>\n",
       "      <td>246.169998</td>\n",
       "    </tr>\n",
       "    <tr>\n",
       "      <th>1688</th>\n",
       "      <td>3/14/2017</td>\n",
       "      <td>246.110001</td>\n",
       "      <td>258.119995</td>\n",
       "      <td>246.020004</td>\n",
       "      <td>258.000000</td>\n",
       "      <td>7575500</td>\n",
       "      <td>258.000000</td>\n",
       "    </tr>\n",
       "    <tr>\n",
       "      <th>1689</th>\n",
       "      <td>3/15/2017</td>\n",
       "      <td>257.000000</td>\n",
       "      <td>261.000000</td>\n",
       "      <td>254.270004</td>\n",
       "      <td>255.729996</td>\n",
       "      <td>4816600</td>\n",
       "      <td>255.729996</td>\n",
       "    </tr>\n",
       "    <tr>\n",
       "      <th>1690</th>\n",
       "      <td>3/16/2017</td>\n",
       "      <td>262.399994</td>\n",
       "      <td>265.750000</td>\n",
       "      <td>259.059998</td>\n",
       "      <td>262.049988</td>\n",
       "      <td>7100400</td>\n",
       "      <td>262.049988</td>\n",
       "    </tr>\n",
       "    <tr>\n",
       "      <th>1691</th>\n",
       "      <td>3/17/2017</td>\n",
       "      <td>264.000000</td>\n",
       "      <td>265.329987</td>\n",
       "      <td>261.200012</td>\n",
       "      <td>261.500000</td>\n",
       "      <td>6475900</td>\n",
       "      <td>261.500000</td>\n",
       "    </tr>\n",
       "  </tbody>\n",
       "</table>\n",
       "<p>92 rows × 7 columns</p>\n",
       "</div>"
      ],
      "text/plain": [
       "           Date        Open        High         Low       Close   Volume  \\\n",
       "1600  11/3/2016  189.000000  191.470001  187.039993  187.419998  2653000   \n",
       "1601  11/4/2016  189.000000  193.460007  185.960007  190.559998  5146000   \n",
       "1602  11/7/2016  193.589996  194.289993  190.050003  193.210007  3870100   \n",
       "1603  11/8/2016  193.789993  197.490005  191.259995  194.940002  3267600   \n",
       "1604  11/9/2016  186.880005  192.000000  183.949997  190.059998  8173100   \n",
       "...         ...         ...         ...         ...         ...      ...   \n",
       "1687  3/13/2017  244.820007  246.850006  242.779999  246.169998  3010700   \n",
       "1688  3/14/2017  246.110001  258.119995  246.020004  258.000000  7575500   \n",
       "1689  3/15/2017  257.000000  261.000000  254.270004  255.729996  4816600   \n",
       "1690  3/16/2017  262.399994  265.750000  259.059998  262.049988  7100400   \n",
       "1691  3/17/2017  264.000000  265.329987  261.200012  261.500000  6475900   \n",
       "\n",
       "       Adj Close  \n",
       "1600  187.419998  \n",
       "1601  190.559998  \n",
       "1602  193.210007  \n",
       "1603  194.940002  \n",
       "1604  190.059998  \n",
       "...          ...  \n",
       "1687  246.169998  \n",
       "1688  258.000000  \n",
       "1689  255.729996  \n",
       "1690  262.049988  \n",
       "1691  261.500000  \n",
       "\n",
       "[92 rows x 7 columns]"
      ]
     },
     "execution_count": 5,
     "metadata": {},
     "output_type": "execute_result"
    }
   ],
   "source": [
    "df_test"
   ]
  },
  {
   "cell_type": "code",
   "execution_count": 6,
   "metadata": {},
   "outputs": [],
   "source": [
    "train = df_Train.iloc[:, 4:5].values\n",
    "test_actual = df_test.iloc[:, 4:5].values"
   ]
  },
  {
   "cell_type": "code",
   "execution_count": 7,
   "metadata": {},
   "outputs": [
    {
     "data": {
      "text/plain": [
       "array([[ 23.889999],\n",
       "       [ 23.83    ],\n",
       "       [ 21.959999],\n",
       "       ...,\n",
       "       [197.729996],\n",
       "       [190.789993],\n",
       "       [188.020004]])"
      ]
     },
     "execution_count": 7,
     "metadata": {},
     "output_type": "execute_result"
    }
   ],
   "source": [
    "##Considering closing value of stocks so extracting the close column \n",
    "train    "
   ]
  },
  {
   "cell_type": "code",
   "execution_count": 8,
   "metadata": {},
   "outputs": [
    {
     "data": {
      "text/plain": [
       "array([[187.419998],\n",
       "       [190.559998],\n",
       "       [193.210007],\n",
       "       [194.940002],\n",
       "       [190.059998],\n",
       "       [185.350006],\n",
       "       [188.559998],\n",
       "       [181.449997],\n",
       "       [183.770004],\n",
       "       [183.929993],\n",
       "       [188.660004],\n",
       "       [185.020004],\n",
       "       [184.520004],\n",
       "       [191.169998],\n",
       "       [193.139999],\n",
       "       [196.649994],\n",
       "       [196.119995],\n",
       "       [189.570007],\n",
       "       [189.399994],\n",
       "       [181.880005],\n",
       "       [181.470001],\n",
       "       [186.800003],\n",
       "       [185.850006],\n",
       "       [193.149994],\n",
       "       [192.289993],\n",
       "       [192.179993],\n",
       "       [192.429993],\n",
       "       [198.149994],\n",
       "       [198.690002],\n",
       "       [197.580002],\n",
       "       [202.490005],\n",
       "       [202.729996],\n",
       "       [208.789993],\n",
       "       [207.699997],\n",
       "       [208.449997],\n",
       "       [213.339996],\n",
       "       [219.529999],\n",
       "       [219.740005],\n",
       "       [214.679993],\n",
       "       [213.690002],\n",
       "       [216.990005],\n",
       "       [226.990005],\n",
       "       [226.75    ],\n",
       "       [229.009995],\n",
       "       [231.279999],\n",
       "       [229.869995],\n",
       "       [229.729996],\n",
       "       [229.589996],\n",
       "       [237.75    ],\n",
       "       [235.580002],\n",
       "       [238.360001],\n",
       "       [243.759995],\n",
       "       [244.729996],\n",
       "       [248.919998],\n",
       "       [254.610001],\n",
       "       [254.470001],\n",
       "       [252.509995],\n",
       "       [252.949997],\n",
       "       [250.630005],\n",
       "       [251.929993],\n",
       "       [249.240005],\n",
       "       [251.550003],\n",
       "       [251.330002],\n",
       "       [257.769989],\n",
       "       [257.480011],\n",
       "       [262.079987],\n",
       "       [269.200012],\n",
       "       [269.230011],\n",
       "       [280.600006],\n",
       "       [280.980011],\n",
       "       [279.76001 ],\n",
       "       [268.950012],\n",
       "       [272.230011],\n",
       "       [277.390015],\n",
       "       [273.51001 ],\n",
       "       [255.990005],\n",
       "       [257.      ],\n",
       "       [246.229996],\n",
       "       [249.990005],\n",
       "       [250.020004],\n",
       "       [250.479996],\n",
       "       [251.570007],\n",
       "       [251.210007],\n",
       "       [248.589996],\n",
       "       [246.869995],\n",
       "       [244.899994],\n",
       "       [243.690002],\n",
       "       [246.169998],\n",
       "       [258.      ],\n",
       "       [255.729996],\n",
       "       [262.049988],\n",
       "       [261.5     ]])"
      ]
     },
     "execution_count": 8,
     "metadata": {},
     "output_type": "execute_result"
    }
   ],
   "source": [
    "test_actual"
   ]
  },
  {
   "cell_type": "code",
   "execution_count": 9,
   "metadata": {},
   "outputs": [],
   "source": [
    "######NORmalizing the train values \n",
    "\n",
    "from sklearn.preprocessing import MinMaxScaler\n",
    "mm_sc = MinMaxScaler(feature_range = (0, 1))\n",
    "training = mm_sc.fit_transform(train)"
   ]
  },
  {
   "cell_type": "code",
   "execution_count": 10,
   "metadata": {},
   "outputs": [
    {
     "data": {
      "text/plain": [
       "array([[0.02993635],\n",
       "       [0.02971433],\n",
       "       [0.02279455],\n",
       "       ...,\n",
       "       [0.67321636],\n",
       "       [0.64753548],\n",
       "       [0.63728537]])"
      ]
     },
     "execution_count": 10,
     "metadata": {},
     "output_type": "execute_result"
    }
   ],
   "source": [
    "training"
   ]
  },
  {
   "cell_type": "code",
   "execution_count": 11,
   "metadata": {},
   "outputs": [],
   "source": [
    "X_train = []\n",
    "y_train = []\n",
    "for i in range(60, 1600):\n",
    "    X_train.append(training[i-60:i, 0])\n",
    "    y_train.append(training[i, 0])\n",
    "X_train, y_train = np.array(X_train), np.array(y_train)\n"
   ]
  },
  {
   "cell_type": "code",
   "execution_count": 12,
   "metadata": {},
   "outputs": [
    {
     "data": {
      "text/plain": [
       "(1540, 60)"
      ]
     },
     "execution_count": 12,
     "metadata": {},
     "output_type": "execute_result"
    }
   ],
   "source": [
    "X_train.shape"
   ]
  },
  {
   "cell_type": "code",
   "execution_count": 13,
   "metadata": {},
   "outputs": [],
   "source": [
    "X_train = np.reshape(X_train, (X_train.shape[0], X_train.shape[1], 1))"
   ]
  },
  {
   "cell_type": "code",
   "execution_count": 14,
   "metadata": {},
   "outputs": [
    {
     "data": {
      "text/plain": [
       "array([[[0.02993635],\n",
       "        [0.02971433],\n",
       "        [0.02279455],\n",
       "        ...,\n",
       "        [0.01946418],\n",
       "        [0.01839106],\n",
       "        [0.01506069]],\n",
       "\n",
       "       [[0.02971433],\n",
       "        [0.02279455],\n",
       "        [0.01258141],\n",
       "        ...,\n",
       "        [0.01839106],\n",
       "        [0.01506069],\n",
       "        [0.01391355]],\n",
       "\n",
       "       [[0.02279455],\n",
       "        [0.01258141],\n",
       "        [0.00114713],\n",
       "        ...,\n",
       "        [0.01506069],\n",
       "        [0.01391355],\n",
       "        [0.01591178]],\n",
       "\n",
       "       ...,\n",
       "\n",
       "       [[0.79273976],\n",
       "        [0.77841917],\n",
       "        [0.78922437],\n",
       "        ...,\n",
       "        [0.68990526],\n",
       "        [0.69645496],\n",
       "        [0.68150531]],\n",
       "\n",
       "       [[0.77841917],\n",
       "        [0.78922437],\n",
       "        [0.77653192],\n",
       "        ...,\n",
       "        [0.69645496],\n",
       "        [0.68150531],\n",
       "        [0.67321636]],\n",
       "\n",
       "       [[0.78922437],\n",
       "        [0.77653192],\n",
       "        [0.77379365],\n",
       "        ...,\n",
       "        [0.68150531],\n",
       "        [0.67321636],\n",
       "        [0.64753548]]])"
      ]
     },
     "execution_count": 14,
     "metadata": {},
     "output_type": "execute_result"
    }
   ],
   "source": [
    "X_train"
   ]
  },
  {
   "cell_type": "code",
   "execution_count": 15,
   "metadata": {},
   "outputs": [],
   "source": [
    "import tensorflow as tf\n",
    "from tensorflow.keras.models import Sequential\n",
    "from tensorflow.keras.layers import Dense\n",
    "from tensorflow.keras.layers import LSTM\n",
    "from tensorflow.keras.layers import Dropout"
   ]
  },
  {
   "cell_type": "code",
   "execution_count": 16,
   "metadata": {},
   "outputs": [
    {
     "name": "stdout",
     "output_type": "stream",
     "text": [
      "Epoch 1/25\n",
      "97/97 [==============================] - 11s 75ms/step - loss: 0.0163\n",
      "Epoch 2/25\n",
      "97/97 [==============================] - 7s 74ms/step - loss: 0.0044\n",
      "Epoch 3/25\n",
      "97/97 [==============================] - 8s 79ms/step - loss: 0.0038\n",
      "Epoch 4/25\n",
      "97/97 [==============================] - 7s 74ms/step - loss: 0.0039\n",
      "Epoch 5/25\n",
      "97/97 [==============================] - 7s 76ms/step - loss: 0.0037\n",
      "Epoch 6/25\n",
      "97/97 [==============================] - 8s 79ms/step - loss: 0.0026\n",
      "Epoch 7/25\n",
      "97/97 [==============================] - 8s 80ms/step - loss: 0.0027\n",
      "Epoch 8/25\n",
      "97/97 [==============================] - 7s 77ms/step - loss: 0.0030\n",
      "Epoch 9/25\n",
      "97/97 [==============================] - 8s 78ms/step - loss: 0.0026\n",
      "Epoch 10/25\n",
      "97/97 [==============================] - 8s 78ms/step - loss: 0.0027\n",
      "Epoch 11/25\n",
      "97/97 [==============================] - 8s 81ms/step - loss: 0.0022\n",
      "Epoch 12/25\n",
      "97/97 [==============================] - 8s 78ms/step - loss: 0.0023\n",
      "Epoch 13/25\n",
      "97/97 [==============================] - 8s 81ms/step - loss: 0.0023\n",
      "Epoch 14/25\n",
      "97/97 [==============================] - 7s 74ms/step - loss: 0.0024\n",
      "Epoch 15/25\n",
      "97/97 [==============================] - 7s 68ms/step - loss: 0.0020\n",
      "Epoch 16/25\n",
      "97/97 [==============================] - 7s 72ms/step - loss: 0.0021\n",
      "Epoch 17/25\n",
      "97/97 [==============================] - 7s 71ms/step - loss: 0.0018\n",
      "Epoch 18/25\n",
      "97/97 [==============================] - 7s 71ms/step - loss: 0.0023\n",
      "Epoch 19/25\n",
      "97/97 [==============================] - 7s 72ms/step - loss: 0.0018\n",
      "Epoch 20/25\n",
      "97/97 [==============================] - 7s 69ms/step - loss: 0.0018\n",
      "Epoch 21/25\n",
      "97/97 [==============================] - 7s 75ms/step - loss: 0.0016\n",
      "Epoch 22/25\n",
      "97/97 [==============================] - 7s 70ms/step - loss: 0.0018\n",
      "Epoch 23/25\n",
      "97/97 [==============================] - 7s 71ms/step - loss: 0.0016\n",
      "Epoch 24/25\n",
      "97/97 [==============================] - 8s 80ms/step - loss: 0.0016\n",
      "Epoch 25/25\n",
      "97/97 [==============================] - 7s 71ms/step - loss: 0.0015\n"
     ]
    },
    {
     "data": {
      "text/plain": [
       "<tensorflow.python.keras.callbacks.History at 0x7fa680251c88>"
      ]
     },
     "execution_count": 16,
     "metadata": {},
     "output_type": "execute_result"
    }
   ],
   "source": [
    "\n",
    "Stock_pred = Sequential()\n",
    "\n",
    "Stock_pred.add(LSTM(units = 60, return_sequences = True, input_shape = (X_train.shape[1], 1)))\n",
    "Stock_pred.add(Dropout(0.1))\n",
    "\n",
    "Stock_pred.add(LSTM(units = 60, return_sequences = True))\n",
    "Stock_pred.add(Dropout(0.1))\n",
    "\n",
    "Stock_pred.add(LSTM(units = 60, return_sequences = True))\n",
    "Stock_pred.add(Dropout(0.1))\n",
    "\n",
    "Stock_pred.add(LSTM(units = 60))\n",
    "Stock_pred.add(Dropout(0.1))\n",
    "\n",
    "Stock_pred.add(Dense(units = 1))\n",
    "\n",
    "Stock_pred.compile(optimizer = 'adam', loss = 'mean_squared_error')\n",
    "##Training the model \n",
    "Stock_pred.fit(X_train, y_train, epochs = 25, batch_size = 16)"
   ]
  },
  {
   "cell_type": "code",
   "execution_count": 17,
   "metadata": {},
   "outputs": [],
   "source": [
    "test_head = train[-60:]\n"
   ]
  },
  {
   "cell_type": "code",
   "execution_count": 18,
   "metadata": {},
   "outputs": [
    {
     "data": {
      "text/plain": [
       "array([[225.649994],\n",
       "       [224.910004],\n",
       "       [225.610001],\n",
       "       [225.589996],\n",
       "       [223.610001],\n",
       "       [223.240005],\n",
       "       [223.509995],\n",
       "       [225.      ],\n",
       "       [222.929993],\n",
       "       [224.839996],\n",
       "       [222.619995],\n",
       "       [220.960007],\n",
       "       [219.990005],\n",
       "       [215.199997],\n",
       "       [211.339996],\n",
       "       [212.009995],\n",
       "       [200.770004],\n",
       "       [197.779999],\n",
       "       [202.830002],\n",
       "       [201.710007],\n",
       "       [197.360001],\n",
       "       [194.470001],\n",
       "       [198.300003],\n",
       "       [196.050003],\n",
       "       [196.410004],\n",
       "       [200.419998],\n",
       "       [205.399994],\n",
       "       [206.339996],\n",
       "       [204.639999],\n",
       "       [205.220001],\n",
       "       [206.429993],\n",
       "       [207.449997],\n",
       "       [208.990005],\n",
       "       [205.809998],\n",
       "       [206.270004],\n",
       "       [200.699997],\n",
       "       [204.029999],\n",
       "       [213.699997],\n",
       "       [211.410004],\n",
       "       [208.460007],\n",
       "       [201.      ],\n",
       "       [196.610001],\n",
       "       [200.949997],\n",
       "       [200.100006],\n",
       "       [201.509995],\n",
       "       [200.240005],\n",
       "       [196.509995],\n",
       "       [193.960007],\n",
       "       [199.100006],\n",
       "       [203.559998],\n",
       "       [199.100006],\n",
       "       [200.089996],\n",
       "       [202.759995],\n",
       "       [202.339996],\n",
       "       [202.240005],\n",
       "       [204.009995],\n",
       "       [199.970001],\n",
       "       [197.729996],\n",
       "       [190.789993],\n",
       "       [188.020004]])"
      ]
     },
     "execution_count": 18,
     "metadata": {},
     "output_type": "execute_result"
    }
   ],
   "source": [
    "test_head"
   ]
  },
  {
   "cell_type": "code",
   "execution_count": 18,
   "metadata": {},
   "outputs": [
    {
     "data": {
      "text/plain": [
       "(92, 1)"
      ]
     },
     "execution_count": 18,
     "metadata": {},
     "output_type": "execute_result"
    }
   ],
   "source": [
    "test_actual.shape"
   ]
  },
  {
   "cell_type": "code",
   "execution_count": 19,
   "metadata": {},
   "outputs": [
    {
     "data": {
      "text/plain": [
       "(60, 1)"
      ]
     },
     "execution_count": 19,
     "metadata": {},
     "output_type": "execute_result"
    }
   ],
   "source": [
    "##For getting the 1st predicted value, we have o concatenate the last 60 time steps from the training dataset \n",
    "test_head.shape"
   ]
  },
  {
   "cell_type": "code",
   "execution_count": 20,
   "metadata": {},
   "outputs": [],
   "source": [
    "Test = np.concatenate((test_head,test_actual), axis=0)\n"
   ]
  },
  {
   "cell_type": "code",
   "execution_count": 21,
   "metadata": {},
   "outputs": [
    {
     "data": {
      "text/plain": [
       "(152, 1)"
      ]
     },
     "execution_count": 21,
     "metadata": {},
     "output_type": "execute_result"
    }
   ],
   "source": [
    "Test.shape"
   ]
  },
  {
   "cell_type": "code",
   "execution_count": 22,
   "metadata": {},
   "outputs": [
    {
     "data": {
      "text/plain": [
       "array([[225.649994],\n",
       "       [224.910004],\n",
       "       [225.610001],\n",
       "       [225.589996],\n",
       "       [223.610001],\n",
       "       [223.240005],\n",
       "       [223.509995],\n",
       "       [225.      ],\n",
       "       [222.929993],\n",
       "       [224.839996],\n",
       "       [222.619995],\n",
       "       [220.960007],\n",
       "       [219.990005],\n",
       "       [215.199997],\n",
       "       [211.339996],\n",
       "       [212.009995],\n",
       "       [200.770004],\n",
       "       [197.779999],\n",
       "       [202.830002],\n",
       "       [201.710007],\n",
       "       [197.360001],\n",
       "       [194.470001],\n",
       "       [198.300003],\n",
       "       [196.050003],\n",
       "       [196.410004],\n",
       "       [200.419998],\n",
       "       [205.399994],\n",
       "       [206.339996],\n",
       "       [204.639999],\n",
       "       [205.220001],\n",
       "       [206.429993],\n",
       "       [207.449997],\n",
       "       [208.990005],\n",
       "       [205.809998],\n",
       "       [206.270004],\n",
       "       [200.699997],\n",
       "       [204.029999],\n",
       "       [213.699997],\n",
       "       [211.410004],\n",
       "       [208.460007],\n",
       "       [201.      ],\n",
       "       [196.610001],\n",
       "       [200.949997],\n",
       "       [200.100006],\n",
       "       [201.509995],\n",
       "       [200.240005],\n",
       "       [196.509995],\n",
       "       [193.960007],\n",
       "       [199.100006],\n",
       "       [203.559998],\n",
       "       [199.100006],\n",
       "       [200.089996],\n",
       "       [202.759995],\n",
       "       [202.339996],\n",
       "       [202.240005],\n",
       "       [204.009995],\n",
       "       [199.970001],\n",
       "       [197.729996],\n",
       "       [190.789993],\n",
       "       [188.020004],\n",
       "       [187.419998],\n",
       "       [190.559998],\n",
       "       [193.210007],\n",
       "       [194.940002],\n",
       "       [190.059998],\n",
       "       [185.350006],\n",
       "       [188.559998],\n",
       "       [181.449997],\n",
       "       [183.770004],\n",
       "       [183.929993],\n",
       "       [188.660004],\n",
       "       [185.020004],\n",
       "       [184.520004],\n",
       "       [191.169998],\n",
       "       [193.139999],\n",
       "       [196.649994],\n",
       "       [196.119995],\n",
       "       [189.570007],\n",
       "       [189.399994],\n",
       "       [181.880005],\n",
       "       [181.470001],\n",
       "       [186.800003],\n",
       "       [185.850006],\n",
       "       [193.149994],\n",
       "       [192.289993],\n",
       "       [192.179993],\n",
       "       [192.429993],\n",
       "       [198.149994],\n",
       "       [198.690002],\n",
       "       [197.580002],\n",
       "       [202.490005],\n",
       "       [202.729996],\n",
       "       [208.789993],\n",
       "       [207.699997],\n",
       "       [208.449997],\n",
       "       [213.339996],\n",
       "       [219.529999],\n",
       "       [219.740005],\n",
       "       [214.679993],\n",
       "       [213.690002],\n",
       "       [216.990005],\n",
       "       [226.990005],\n",
       "       [226.75    ],\n",
       "       [229.009995],\n",
       "       [231.279999],\n",
       "       [229.869995],\n",
       "       [229.729996],\n",
       "       [229.589996],\n",
       "       [237.75    ],\n",
       "       [235.580002],\n",
       "       [238.360001],\n",
       "       [243.759995],\n",
       "       [244.729996],\n",
       "       [248.919998],\n",
       "       [254.610001],\n",
       "       [254.470001],\n",
       "       [252.509995],\n",
       "       [252.949997],\n",
       "       [250.630005],\n",
       "       [251.929993],\n",
       "       [249.240005],\n",
       "       [251.550003],\n",
       "       [251.330002],\n",
       "       [257.769989],\n",
       "       [257.480011],\n",
       "       [262.079987],\n",
       "       [269.200012],\n",
       "       [269.230011],\n",
       "       [280.600006],\n",
       "       [280.980011],\n",
       "       [279.76001 ],\n",
       "       [268.950012],\n",
       "       [272.230011],\n",
       "       [277.390015],\n",
       "       [273.51001 ],\n",
       "       [255.990005],\n",
       "       [257.      ],\n",
       "       [246.229996],\n",
       "       [249.990005],\n",
       "       [250.020004],\n",
       "       [250.479996],\n",
       "       [251.570007],\n",
       "       [251.210007],\n",
       "       [248.589996],\n",
       "       [246.869995],\n",
       "       [244.899994],\n",
       "       [243.690002],\n",
       "       [246.169998],\n",
       "       [258.      ],\n",
       "       [255.729996],\n",
       "       [262.049988],\n",
       "       [261.5     ]])"
      ]
     },
     "execution_count": 22,
     "metadata": {},
     "output_type": "execute_result"
    }
   ],
   "source": [
    "Test"
   ]
  },
  {
   "cell_type": "code",
   "execution_count": 23,
   "metadata": {},
   "outputs": [],
   "source": [
    "Test = mm_sc.transform(Test)\n",
    "X_test = []\n",
    "for i in range(60, 152):\n",
    "    X_test.append(Test[i-60:i, 0])\n",
    "X_test = np.array(X_test)"
   ]
  },
  {
   "cell_type": "code",
   "execution_count": 24,
   "metadata": {},
   "outputs": [
    {
     "data": {
      "text/plain": [
       "array([[0.77653192, 0.77379365, 0.77638393, ..., 0.67321636, 0.64753548,\n",
       "        0.63728537],\n",
       "       [0.77379365, 0.77638393, 0.77630991, ..., 0.64753548, 0.63728537,\n",
       "        0.6350651 ],\n",
       "       [0.77638393, 0.77630991, 0.7689831 , ..., 0.63728537, 0.6350651 ,\n",
       "        0.6466844 ],\n",
       "       ...,\n",
       "       [0.67266132, 0.69083037, 0.69171843, ..., 0.84328743, 0.85246444,\n",
       "        0.89624035],\n",
       "       [0.69083037, 0.69171843, 0.71414293, ..., 0.85246444, 0.89624035,\n",
       "        0.88784039],\n",
       "       [0.69171843, 0.71414293, 0.7101095 , ..., 0.89624035, 0.88784039,\n",
       "        0.91122698]])"
      ]
     },
     "execution_count": 24,
     "metadata": {},
     "output_type": "execute_result"
    }
   ],
   "source": [
    "X_test"
   ]
  },
  {
   "cell_type": "code",
   "execution_count": 25,
   "metadata": {},
   "outputs": [],
   "source": [
    "X_test = np.reshape(X_test, (X_test.shape[0], X_test.shape[1], 1))"
   ]
  },
  {
   "cell_type": "code",
   "execution_count": 26,
   "metadata": {},
   "outputs": [
    {
     "data": {
      "text/plain": [
       "array([[[0.77653192],\n",
       "        [0.77379365],\n",
       "        [0.77638393],\n",
       "        ...,\n",
       "        [0.67321636],\n",
       "        [0.64753548],\n",
       "        [0.63728537]],\n",
       "\n",
       "       [[0.77379365],\n",
       "        [0.77638393],\n",
       "        [0.77630991],\n",
       "        ...,\n",
       "        [0.64753548],\n",
       "        [0.63728537],\n",
       "        [0.6350651 ]],\n",
       "\n",
       "       [[0.77638393],\n",
       "        [0.77630991],\n",
       "        [0.7689831 ],\n",
       "        ...,\n",
       "        [0.63728537],\n",
       "        [0.6350651 ],\n",
       "        [0.6466844 ]],\n",
       "\n",
       "       ...,\n",
       "\n",
       "       [[0.67266132],\n",
       "        [0.69083037],\n",
       "        [0.69171843],\n",
       "        ...,\n",
       "        [0.84328743],\n",
       "        [0.85246444],\n",
       "        [0.89624035]],\n",
       "\n",
       "       [[0.69083037],\n",
       "        [0.69171843],\n",
       "        [0.71414293],\n",
       "        ...,\n",
       "        [0.85246444],\n",
       "        [0.89624035],\n",
       "        [0.88784039]],\n",
       "\n",
       "       [[0.69171843],\n",
       "        [0.71414293],\n",
       "        [0.7101095 ],\n",
       "        ...,\n",
       "        [0.89624035],\n",
       "        [0.88784039],\n",
       "        [0.91122698]]])"
      ]
     },
     "execution_count": 26,
     "metadata": {},
     "output_type": "execute_result"
    }
   ],
   "source": [
    "X_test"
   ]
  },
  {
   "cell_type": "code",
   "execution_count": 27,
   "metadata": {},
   "outputs": [],
   "source": [
    "y_pred = Stock_pred.predict(X_test)\n",
    "y_pred = mm_sc.inverse_transform(y_pred)"
   ]
  },
  {
   "cell_type": "code",
   "execution_count": 29,
   "metadata": {},
   "outputs": [
    {
     "data": {
      "image/png": "[encoded data removed]",
      "text/plain": [
       "<Figure size 432x288 with 1 Axes>"
      ]
     },
     "metadata": {
      "needs_background": "light"
     },
     "output_type": "display_data"
    }
   ],
   "source": [
    "plt.plot(test_actual, color = 'Green', label = 'tesla Actual stock closing price')\n",
    "plt.plot(y_pred, color = 'blue', label = 'Predicted Google Stock Price')\n",
    "plt.title('Tesla Stock price Prediction')\n",
    "plt.xlabel('Date')\n",
    "plt.ylabel('Tesla Closing stock')\n",
    "plt.legend()\n",
    "plt.show()"
   ]
  },
  {
   "cell_type": "code",
   "execution_count": null,
   "metadata": {},
   "outputs": [],
   "source": []
  },
  {
   "cell_type": "code",
   "execution_count": null,
   "metadata": {},
   "outputs": [],
   "source": []
  },
  {
   "cell_type": "code",
   "execution_count": null,
   "metadata": {},
   "outputs": [],
   "source": []
  }
 ],
 "metadata": {
  "kernelspec": {
   "display_name": "Python 3",
   "language": "python",
   "name": "python3"
  },
  "language_info": {
   "codemirror_mode": {
    "name": "ipython",
    "version": 3
   },
   "file_extension": ".py",
   "mimetype": "text/x-python",
   "name": "python",
   "nbconvert_exporter": "python",
   "pygments_lexer": "ipython3",
   "version": "3.6.9"
  }
 },
 "nbformat": 4,
 "nbformat_minor": 4
}
